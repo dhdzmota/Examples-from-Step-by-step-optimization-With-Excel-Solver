{
 "cells": [
  {
   "attachments": {
    "image.png": {
     "image/png": "[encoded data removed]"
    }
   },
   "cell_type": "markdown",
   "metadata": {},
   "source": [
    "# Shipping Cost Minimization Example\n",
    "\n",
    "Minimizing the total cost of shipping from multiple points to multiple points. The objective is to minimize the total cost of shipping the same product from multiple factories to multiple stores. Shipping cost are different from each factory to each store. Each store needs a different quantity of the product and each factory has a different amount of the product available for shipping. This problem assumes that the only cost differences are the per unit shipping costs between the factories and the stores. \t\t\t\t\t\t\n",
    "\n",
    "\n",
    "**Problem:**\n",
    "\n",
    "\n",
    "A company manufactures its own products at its 3 factories and then delivers these products at its own 5 stores. Each of the stores orders a different amount of the product from the factories while each of the factories has a different amount of the product available to ship to the stores. Shipping costs per unit of products are different between each factory and each store. An optimal amount of products to ship from each factory to each store in order to minimize total shipping costs while fulfilling each store's order must be achieved.\n",
    "\n",
    "![image.png](attachment:image.png)\n",
    "\t\t\t\t\t\t\n",
    "\t\t\t\t\t\t"
   ]
  },
  {
   "cell_type": "code",
   "execution_count": 6,
   "metadata": {},
   "outputs": [
    {
     "name": "stdout",
     "output_type": "stream",
     "text": [
      "Status= Optimal\n",
      "\n",
      "Units_shipped_from_Factory_1_to_Store_1  0.0\n",
      "Units_shipped_from_Factory_1_to_Store_2  40.0\n",
      "Units_shipped_from_Factory_1_to_Store_3  0.0\n",
      "Units_shipped_from_Factory_1_to_Store_4  100.0\n",
      "Units_shipped_from_Factory_1_to_Store_5  0.0\n",
      "Units_shipped_from_Factory_2_to_Store_1  0.0\n",
      "Units_shipped_from_Factory_2_to_Store_2  0.0\n",
      "Units_shipped_from_Factory_2_to_Store_3  240.0\n",
      "Units_shipped_from_Factory_2_to_Store_4  0.0\n",
      "Units_shipped_from_Factory_2_to_Store_5  0.0\n",
      "Units_shipped_from_Factory_3_to_Store_1  110.0\n",
      "Units_shipped_from_Factory_3_to_Store_2  0.0\n",
      "Units_shipped_from_Factory_3_to_Store_3  0.0\n",
      "Units_shipped_from_Factory_3_to_Store_4  0.0\n",
      "Units_shipped_from_Factory_3_to_Store_5  200.0\n",
      "\n",
      "Minimum cost = 1550.0\n"
     ]
    }
   ],
   "source": [
    "from pulp import *\n",
    "\n",
    "#Create a problem\n",
    "prob=LpProblem(\"Shipping cost Minimization\", LpMinimize)\n",
    "\n",
    "#Create the variables:\n",
    "F1S1=LpVariable(\"Units shipped from Factory 1 to Store 1\",0,None,LpInteger)\n",
    "F1S2=LpVariable(\"Units shipped from Factory 1 to Store 2\",0,None,LpInteger)\n",
    "F1S3=LpVariable(\"Units shipped from Factory 1 to Store 3\",0,None,LpInteger)\n",
    "F1S4=LpVariable(\"Units shipped from Factory 1 to Store 4\",0,None,LpInteger)\n",
    "F1S5=LpVariable(\"Units shipped from Factory 1 to Store 5\",0,None,LpInteger)\n",
    "\n",
    "F2S1=LpVariable(\"Units shipped from Factory 2 to Store 1\",0,None,LpInteger)\n",
    "F2S2=LpVariable(\"Units shipped from Factory 2 to Store 2\",0,None,LpInteger)\n",
    "F2S3=LpVariable(\"Units shipped from Factory 2 to Store 3\",0,None,LpInteger)\n",
    "F2S4=LpVariable(\"Units shipped from Factory 2 to Store 4\",0,None,LpInteger)\n",
    "F2S5=LpVariable(\"Units shipped from Factory 2 to Store 5\",0,None,LpInteger)\n",
    "\n",
    "F3S1=LpVariable(\"Units shipped from Factory 3 to Store 1\",0,None,LpInteger)\n",
    "F3S2=LpVariable(\"Units shipped from Factory 3 to Store 2\",0,None,LpInteger)\n",
    "F3S3=LpVariable(\"Units shipped from Factory 3 to Store 3\",0,None,LpInteger)\n",
    "F3S4=LpVariable(\"Units shipped from Factory 3 to Store 4\",0,None,LpInteger)\n",
    "F3S5=LpVariable(\"Units shipped from Factory 3 to Store 5\",0,None,LpInteger)\n",
    "\n",
    "F=[[F1S1,F1S2,F1S3,F1S4,F1S5],\n",
    "   [F2S1,F2S2,F2S3,F2S4,F2S5],\n",
    "   [F3S1,F3S2,F3S3,F3S4,F3S5]]\n",
    "\n",
    "#Information\n",
    "cost=[[4.0,1.0,7.0,3.0],\n",
    "      [6.0,2.0,2.0,4.0],\n",
    "      [3.0,4.0,3.0,5.0,2.0]]\n",
    "\n",
    "constraints=[110,40,240,100,200]\n",
    "\n",
    "#Add the objective function\n",
    "objective=(F[0][0]*cost[0][0]+F[0][1]*cost[0][1]+F[0][2]*cost[0][2]+F[0][3]*cost[0][3]+F[0][4]*cost[0][4]+\n",
    "           F[1][0]*cost[1][0]+F[1][1]*cost[1][1]+F[1][2]*cost[1][2]+F[1][3]*cost[1][3]+F[1][4]*cost[1][4]+\n",
    "           F[2][0]*cost[2][0]+F[2][1]*cost[2][1]+F[2][2]*cost[2][2]+F[2][3]*cost[2][3]+F[2][4]*cost[2][4])\n",
    "prob+=objective\n",
    "#Add contstaints\n",
    "for i in range(0,5):\n",
    "    prob+=F[0][i]+F[1][i]+F[2][i]==constraints[i]\n",
    "    \n",
    "prob.solve()\n",
    "\n",
    "print(\"Status=\",LpStatus[prob.status])\n",
    "print(\"\")\n",
    "for i in prob.variables():\n",
    "    print(i.name,'',i.varValue)\n",
    "print('')\n",
    "print('Minimum cost =', value(prob.objective))"
   ]
  },
  {
   "cell_type": "code",
   "execution_count": null,
   "metadata": {
    "collapsed": true
   },
   "outputs": [],
   "source": []
  }
 ],
 "metadata": {
  "kernelspec": {
   "display_name": "Python 3",
   "language": "python",
   "name": "python3"
  },
  "language_info": {
   "codemirror_mode": {
    "name": "ipython",
    "version": 3
   },
   "file_extension": ".py",
   "mimetype": "text/x-python",
   "name": "python",
   "nbconvert_exporter": "python",
   "pygments_lexer": "ipython3",
   "version": "3.6.1"
  }
 },
 "nbformat": 4,
 "nbformat_minor": 2
}
