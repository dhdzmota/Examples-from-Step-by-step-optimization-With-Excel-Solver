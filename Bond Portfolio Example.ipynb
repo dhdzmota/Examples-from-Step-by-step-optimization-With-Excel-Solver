{
 "cells": [
  {
   "attachments": {},
   "cell_type": "markdown",
   "metadata": {},
   "source": [
    "# Bond Portfolio Example\n",
    "\n",
    "Optimizing the allocation of bonds in a Portfolio to maximize return. Correctly divide a bond portfolio among bonds of different yield, maturity, and risk or in order to maximize yield or minimize risk. \n",
    "\n",
    "**Problem:**  \n",
    "Correctly divide a bond portfolio among 4 bonds of varying yields and maturities in order to achieve an overall bond portfolio with an average maturity of 5.5 years while maximizing overall yield.\n",
    "\n",
    "![image.png](images SBS/Bond Portfolio.png)"
   ]
  },
  {
   "cell_type": "code",
   "execution_count": 1,
   "metadata": {},
   "outputs": [
    {
     "name": "stdout",
     "output_type": "stream",
     "text": [
      "Status: Optimal\n",
      "\n",
      "Bonds__1 = 0.0\n",
      "Bonds__2 = 0.0\n",
      "Bonds__3 = 0.83333333\n",
      "Bonds__4 = 0.16666667\n",
      "\n",
      "Maximum Yield= 0.0849999999\n"
     ]
    }
   ],
   "source": [
    "from pulp import *\n",
    "\n",
    "prob=LpProblem('Maximize Yield',LpMaximize)\n",
    "\n",
    "bond=[\" 1\",\" 2\", \" 3\", \" 4\"]\n",
    "\n",
    "#Capture information:\n",
    "\n",
    "duration={bond[0]:4,\n",
    "          bond[1]:5,\n",
    "          bond[2]:6,\n",
    "          bond[3]:3}\n",
    "\n",
    "yields={bond[0]:.07,\n",
    "       bond[1]:.08,\n",
    "       bond[2]:.09,\n",
    "       bond[3]:.06}\n",
    "\n",
    "variables=LpVariable.dicts(\"Bonds\", bond,0,None)\n",
    "\n",
    "#Objective function is added\n",
    "prob+=lpSum([variables[i]*yields[i] for i in bond])\n",
    "\n",
    "#Constraints are added\n",
    "prob+=lpSum([variables[i]*1 for i in bond])==1\n",
    "prob+=lpSum([variables[i]*duration[i] for i in bond])==5.5\n",
    "\n",
    "#Solve the problem:\n",
    "prob.solve()\n",
    "\n",
    "print('Status:',LpStatus[prob.status])\n",
    "print('')\n",
    "for v in prob.variables():\n",
    "    print (v.name,'=',v.varValue)\n",
    "print('')\n",
    "print(\"Maximum Yield=\",value(prob.objective))\n"
   ]
  },
  {
   "cell_type": "code",
   "execution_count": null,
   "metadata": {
    "collapsed": true
   },
   "outputs": [],
   "source": []
  }
 ],
 "metadata": {
  "kernelspec": {
   "display_name": "Python 3",
   "language": "python",
   "name": "python3"
  },
  "language_info": {
   "codemirror_mode": {
    "name": "ipython",
    "version": 3
   },
   "file_extension": ".py",
   "mimetype": "text/x-python",
   "name": "python",
   "nbconvert_exporter": "python",
   "pygments_lexer": "ipython3",
   "version": "3.6.1"
  }
 },
 "nbformat": 4,
 "nbformat_minor": 2
}
