{
 "cells": [
  {
   "attachments": {},
   "cell_type": "markdown",
   "metadata": {},
   "source": [
    "# Outbound Marketing Budget Example\n",
    "\n",
    "Reaching a required number of prospects as cheaply as possible with outbound marketing. It is used often to select among outbound advertising media of varying Reach, Frequency Ad Effectiveness, and Ad Cost to reach a maximum number of prospects while being constrained by the available advertising budget. \t\n",
    "\n",
    "**Problem:**  \n",
    "\n",
    "A company must divide a limited outbound broadcast media advertising budget among 3 broadcast media vehicles in order to generate at least 1,000,000 Effective Advertising Impressions at the lowest total cost. The broadcast media vehicles are a local TV station and 2 cable TV stations. Each of the 3 media vehicles is judged to have differing degrees of advertising effectiveness per each individual ad impressions. This is due to differences in viewership demographics and relevancy of the programming to the company’s advertising message. The number of ad impressions for each media vehicle is weighted according to vehicles effectiveness to produce a unit of measure called an Effective Advertising Impression. Given the overall advertising budget and the maximum advertising spending per media vehicle, the overall advertising budget be divided up among the 3 broadcast media vehicles to produce at least 1,000,000 Effective Advertising Impressions as cheaply as possible. \t\n",
    "\n",
    "\n",
    "![Outbound](images SBS/Outbound.png)\n",
    "\n",
    "\n"
   ]
  },
  {
   "cell_type": "code",
   "execution_count": 10,
   "metadata": {},
   "outputs": [
    {
     "name": "stdout",
     "output_type": "stream",
     "text": [
      "Status : Optimal\n",
      "\n",
      "Cable_Station_1_broadcast = 50.0\n",
      "Cable_Station_2_broadcast = 31.0\n",
      "TV_Station_broadcast = 44.0\n",
      "\n",
      "Minimun cost= 24005.0\n"
     ]
    }
   ],
   "source": [
    "from pulp import *\n",
    "\n",
    "#Create the problem\n",
    "prob=LpProblem(\"Minimize Cost\",LpMinimize)\n",
    "\n",
    "#Define the data \n",
    "vehicle=[\"TV Station\", \"Cable Station 1\",\"Cable Station 2\"]\n",
    "\n",
    "cost=[195,200,175]\n",
    "\n",
    "maxmoney=[9000,10000,9000]\n",
    "\n",
    "viewers=[50000,40000,30000]\n",
    "\n",
    "advimpress=[7,4,5]\n",
    "\n",
    "#Create the variables\n",
    "TVb=LpVariable(\"TV Station broadcast\",0,None, LpInteger)\n",
    "C1b=LpVariable(\"Cable Station 1 broadcast\",0,None, LpInteger)\n",
    "C2b=LpVariable(\"Cable Station 2 broadcast\",0,None, LpInteger)\n",
    "\n",
    "\n",
    "#Objective Function is added\n",
    "prob+=TVb*cost[0]+C1b*cost[1]+C2b*cost[2]\n",
    "\n",
    "#Constraints are added\n",
    "prob+=viewers[0]/advimpress[0]*TVb+viewers[1]/advimpress[1]*C1b+viewers[2]/advimpress[2]*C2b>=1000000\n",
    "prob+=TVb*cost[0]<=maxmoney[0]\n",
    "prob+=C1b*cost[1]<=maxmoney[1]\n",
    "prob+=C2b*cost[2]<=maxmoney[2]\n",
    "\n",
    "prob.solve()\n",
    "\n",
    "print(\"Status :\", LpStatus[prob.status])\n",
    "print(\"\")\n",
    "for v in prob.variables():\n",
    "    print(v.name,'=',v.varValue)\n",
    "print(\"\")\n",
    "print('Minimun cost=', value(prob.objective))"
   ]
  }
 ],
 "metadata": {
  "kernelspec": {
   "display_name": "Python 3",
   "language": "python",
   "name": "python3"
  },
  "language_info": {
   "codemirror_mode": {
    "name": "ipython",
    "version": 3
   },
   "file_extension": ".py",
   "mimetype": "text/x-python",
   "name": "python",
   "nbconvert_exporter": "python",
   "pygments_lexer": "ipython3",
   "version": "3.6.1"
  }
 },
 "nbformat": 4,
 "nbformat_minor": 2
}
