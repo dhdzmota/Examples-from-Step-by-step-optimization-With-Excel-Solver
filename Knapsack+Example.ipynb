{
 "cells": [
  {
   "cell_type": "markdown",
   "metadata": {},
   "source": [
    "# Knapsack Example\n",
    "\n",
    "Selecting the correct items to lad into a compartment which is limited in some way such as by its size or maximum weight of its load.  \t\t\n",
    "\n",
    "Objects selected for loading must maximize or minimize a given criterion while staying within the constrains. \n",
    "\n",
    "__Problem__:  \n",
    "\n",
    "A knapsack is being loaded for a camping trip. It has a maximum weight-carrying limit and a maximum loadsize limit. The camper can choose from 4 different food items put into the knapsack. The selected items must maximize the overall number calories and provide at least a minimum number of grams of protein. The knapsack's load cannot exceed a weight of 10 kg or a volume of .0125 m^3. The load of food items must contain at least 200 gr of protein. And it may contain any number of each of the 4 following food items: Candy bar, Sandwich, Can of Juice, Apple.\n",
    "\n",
    "\n",
    "**Table of contents**|\n",
    ":-------| ------\n",
    "**Object  **   | **Calories**| **Protein** | **Weight** | **Volume**\n",
    "*Candy Bar*    | 90          | 5           | .25        |.0005\n",
    "*Sandwich*     | 130         | 40          | .35        |.002\n",
    "*Juice Can*    | 100         | 15          | .32        |.00075\n",
    "*Apple*        | 40          | 3           | .30        |.0009\n",
    "\n"
   ]
  },
  {
   "cell_type": "code",
   "execution_count": 27,
   "metadata": {},
   "outputs": [
    {
     "name": "stdout",
     "output_type": "stream",
     "text": [
      "Status: Optimal\n",
      "\n",
      "Objects_Apple = 0.0\n",
      "Objects_Candy_Bar = 10.0\n",
      "Objects_Juice_Can = 10.0\n",
      "Objects_Sandwich = 0.0\n",
      "\n",
      "Total Calories = 1900.0\n"
     ]
    }
   ],
   "source": [
    "#Solution to the problem:\n",
    "\n",
    "from pulp import *\n",
    "\n",
    "prob =LpProblem(\"Maximize Calories\", LpMaximize)\n",
    "\n",
    "objects=[\"Candy Bar\",\"Sandwich\",\"Juice Can\",\"Apple\"]\n",
    "\n",
    "#Capture the information\n",
    "\n",
    "Calories={objects[0]:90,\n",
    "          objects[1]:130,\n",
    "          objects[2]:100,\n",
    "          objects[3]:40}\n",
    "\n",
    "Protein={objects[0]:5,\n",
    "          objects[1]:40,\n",
    "          objects[2]:15,\n",
    "          objects[3]:3}\n",
    "\n",
    "Weigh={objects[0]:.25,\n",
    "       objects[1]:.35,\n",
    "       objects[2]:.32,\n",
    "       objects[3]:.30}\n",
    "\n",
    "Volume={objects[0]:.0005,\n",
    "        objects[1]:.002,\n",
    "        objects[2]:.00075,\n",
    "        objects[3]:.0009}\n",
    "\n",
    "#Create the variables\n",
    "\n",
    "variables=LpVariable.dicts(\"Objects\", objects,0,None, LpInteger)\n",
    "\n",
    "#Objective Function is added\n",
    "prob += lpSum([Calories[i]*variables[i] for i in objects])\n",
    "\n",
    "#Constraints are added\n",
    "prob+= lpSum([Protein[i]*variables[i] for i in objects]) >=200\n",
    "prob+= lpSum([Weigh[i]*variables[i] for i in objects]) <= 10\n",
    "prob+= lpSum([Volume[i]*variables[i] for i in objects])<= .0125\n",
    "\n",
    "#Solution to the problem: \n",
    "prob.solve()\n",
    "print (\"Status:\",LpStatus[prob.status])\n",
    "print(\"\")\n",
    "for v in prob.variables():\n",
    "    print (v.name,\"=\",v.varValue)\n",
    "print(\"\")\n",
    "print(\"Total Calories =\",value(prob.objective))"
   ]
  }
 ],
 "metadata": {
  "kernelspec": {
   "display_name": "Python 3",
   "language": "python",
   "name": "python3"
  },
  "language_info": {
   "codemirror_mode": {
    "name": "ipython",
    "version": 3
   },
   "file_extension": ".py",
   "mimetype": "text/x-python",
   "name": "python",
   "nbconvert_exporter": "python",
   "pygments_lexer": "ipython3",
   "version": "3.6.1"
  }
 },
 "nbformat": 4,
 "nbformat_minor": 2
}
