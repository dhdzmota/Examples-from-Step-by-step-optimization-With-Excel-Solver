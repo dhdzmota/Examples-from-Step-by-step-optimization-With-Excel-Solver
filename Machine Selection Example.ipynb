{
 "cells": [
  {
   "cell_type": "markdown",
   "metadata": {},
   "source": [
    "# Machine Selection Example\n",
    "\n",
    "Selecting Machines to Optimally fulfill an Order.  It involves dividing a task among different machines to fulfill a customer order while minimizing total cost.  Each machine varies in operating cost, production speed and ability to perform different elements of task. The correct combination of machines must be selected to fulfill the customer order.\n",
    "\n",
    "**Problem:**  \n",
    "Three machines perform the same generic type of task: They all make bolts. Each machine varies in the variety of bolts that it can produce. Each machine also has a different operating cost and a different operating speed. The objective is to fulfill an individual customer order within a specified time limit while minimizing the total cost of fulfilling this order. 500 Minutes is the total time allowed to complete this entire order.\n",
    "\n",
    "![Machine](images SBS/Machine Select.png)"
   ]
  },
  {
   "cell_type": "code",
   "execution_count": 40,
   "metadata": {},
   "outputs": [
    {
     "name": "stdout",
     "output_type": "stream",
     "text": [
      "Status: Optimal\n",
      "\n",
      "Machine_1,_1\" = 2000.0\n",
      "Machine_1,_2\" = 0.0\n",
      "Machine_1,_3\" = 400.0\n",
      "Machine_2,_1\" = 1500.0\n",
      "Machine_2,_2\" = 3000.0\n",
      "Machine_2,_3\" = 0.0\n",
      "Machine_3,_1\" = 12500.0\n",
      "Machine_3,_2\" = 0.0\n",
      "Machine_3,_3\" = 0.0\n",
      "\n",
      "Total Cost = 1730.0\n"
     ]
    }
   ],
   "source": [
    "from pulp import *\n",
    "\n",
    "#Create a problem\n",
    "prob=LpProblem(\"Minimum cost\",LpMinimize)\n",
    "\n",
    "#Create the varialbes\n",
    "Machine1_1in=LpVariable('Machine 1, 1\"',0,None, LpInteger)\n",
    "Machine1_2in=LpVariable('Machine 1, 2\"',0,None, LpInteger)\n",
    "Machine1_3in=LpVariable('Machine 1, 3\"',0,None, LpInteger)\n",
    "Machine2_1in=LpVariable('Machine 2, 1\"',0,None, LpInteger)\n",
    "Machine2_2in=LpVariable('Machine 2, 2\"',0,None, LpInteger)\n",
    "Machine2_3in=LpVariable('Machine 2, 3\"',0,None, LpInteger)\n",
    "Machine3_1in=LpVariable('Machine 3, 1\"',0,None, LpInteger)\n",
    "Machine3_2in=LpVariable('Machine 3, 2\"',0,None, LpInteger)\n",
    "Machine3_3in=LpVariable('Machine 3, 3\"',0,None, LpInteger)\n",
    "\n",
    "#Simplification of variables\n",
    "X1_1=Machine1_1in\n",
    "X1_2=Machine1_2in\n",
    "X1_3=Machine1_3in\n",
    "X2_1=Machine2_1in\n",
    "X2_2=Machine2_2in\n",
    "X2_3=Machine2_3in\n",
    "X3_1=Machine3_1in\n",
    "X3_2=Machine3_2in\n",
    "X3_3=Machine3_3in\n",
    "\n",
    "#Variables in a list\n",
    "X=[X1_1,X1_2,X1_3,X2_1,X2_2,X2_3,X3_1,X3_2,X3_3]\n",
    "\n",
    "#Other data\n",
    "cost=[.25,.25,.25,.14,.14,.14,.04,.04,.04]\n",
    "\n",
    "time=[5**(-1),5**(-1),5**(-1),9**(-1),9**(-1),9**(-1),25**(-1),25**(-1),25**(-1)]\n",
    "\n",
    "ability=[1,1,1,1,1,0,1,0,0]\n",
    "\n",
    "#Objective function\n",
    "prob+=X[0]*cost[0]+X[1]*cost[1]+X[2]*cost[2]+X[3]*cost[3]+X[4]*cost[4]+X[5]*cost[5]+X[6]*cost[6]+X[7]*cost[7]+X[8]*cost[8]\n",
    "\n",
    "#Constraints\n",
    "prob+=X[0]*time[0]+X[1]*time[1]+X[2]*time[2]<=500\n",
    "prob+=X[3]*time[3]+X[4]*time[4]+X[5]*time[5]<=500\n",
    "prob+=X[6]*time[6]+X[7]*time[7]+X[8]*time[8]<=500\n",
    "\n",
    "prob+=X[0]*ability[0]+X[3]*ability[3]+X[6]*ability[6]==16000\n",
    "prob+=X[1]*ability[1]+X[4]*ability[4]+X[7]*ability[7]==3000\n",
    "prob+=X[2]*ability[2]+X[5]*ability[5]+X[8]*ability[8]==400\n",
    "\n",
    "#Solution to the optimization problem\n",
    "prob.solve()\n",
    "print (\"Status:\",LpStatus[prob.status])\n",
    "print(\"\")\n",
    "for v in prob.variables():\n",
    "    print (v.name,\"=\",v.varValue)\n",
    "print(\"\")\n",
    "print(\"Total Cost =\",value(prob.objective))"
   ]
  },
  {
   "cell_type": "markdown",
   "metadata": {
    "collapsed": true
   },
   "source": [
    "__Reference__:  \n",
    "Harmon, M. (2013). “Step by step optimization with Excel Solver”. N.a: Excel Master Series"
   ]
  }
 ],
 "metadata": {
  "kernelspec": {
   "display_name": "Python 3",
   "language": "python",
   "name": "python3"
  },
  "language_info": {
   "codemirror_mode": {
    "name": "ipython",
    "version": 3
   },
   "file_extension": ".py",
   "mimetype": "text/x-python",
   "name": "python",
   "nbconvert_exporter": "python",
   "pygments_lexer": "ipython3",
   "version": "3.6.1"
  }
 },
 "nbformat": 4,
 "nbformat_minor": 2
}
