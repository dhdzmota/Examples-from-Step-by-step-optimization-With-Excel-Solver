{
 "cells": [
  {
   "attachments": {
    "image.png": {
     "image/png": "[encoded data removed]"
    }
   },
   "cell_type": "markdown",
   "metadata": {},
   "source": [
    "# Maximizing Employee Satisfaction Example \n",
    "\n",
    "Optimal Assignment of Company Assets Among Employees For Maximum Satisfaction. In this problem, how to assign similar company assets among employees to produce maximum overall satisfaction is determined. It can be used to determine how to optimally divide a group of similar objects among a group of people.  \n",
    "Each person in the group is surveyed to determine how desirable they rate each object to be distributed. \n",
    "\n",
    "**Problem:**  \n",
    "Four sales territories will be assigned to 4 salespeople. Each salesperson will be assigned to a separate territory. Each salesperson is surveyed to determine his or her liking for each of the 4 sales territories. Each salesperson will rate the desirability of each sales territory on a scale of 1 to 5. A score 5 is the highest and indicates that the salesperson favors this territory above the other 3. The salespeople are required to assign a different rating to each of the 4 territories.\n",
    "\n",
    "\n",
    "![image.png](attachment:image.png)\n"
   ]
  },
  {
   "cell_type": "code",
   "execution_count": 11,
   "metadata": {},
   "outputs": [
    {
     "name": "stdout",
     "output_type": "stream",
     "text": [
      "Status: Optimal\n",
      "\n",
      "Salesperson_1_in_territory_1 = 0.0\n",
      "Salesperson_1_in_territory_2 = 1.0\n",
      "Salesperson_1_in_territory_3 = 1.0\n",
      "Salesperson_1_in_territory_4 = 0.0\n",
      "Salesperson_2_in_territory_1 = 1.0\n",
      "Salesperson_2_in_territory_2 = 0.0\n",
      "Salesperson_2_in_territory_3 = 0.0\n",
      "Salesperson_2_in_territory_4 = 0.0\n",
      "Salesperson_3_in_territory_1 = 0.0\n",
      "Salesperson_3_in_territory_2 = 0.0\n",
      "Salesperson_3_in_territory_3 = 0.0\n",
      "Salesperson_3_in_territory_4 = 1.0\n",
      "Salesperson_4_in_territory_1 = 0.0\n",
      "Salesperson_4_in_territory_2 = 0.0\n",
      "Salesperson_4_in_territory_3 = 0.0\n",
      "Salesperson_4_in_territory_4 = 0.0\n",
      "\n",
      "Maximum Satisfaction = 17.0\n"
     ]
    }
   ],
   "source": [
    "from pulp import *\n",
    "\n",
    "prob=LpProblem(\"Maximize Employee Satisfaction\", LpMaximize)\n",
    "\n",
    "sales1_1=LpVariable(\"Salesperson 1 in territory 1\",0,1,LpInteger)\n",
    "sales1_2=LpVariable(\"Salesperson 1 in territory 2\",0,1,LpInteger)\n",
    "sales1_3=LpVariable(\"Salesperson 1 in territory 3\",0,1,LpInteger)\n",
    "sales1_4=LpVariable(\"Salesperson 1 in territory 4\",0,1,LpInteger)\n",
    "\n",
    "sales2_1=LpVariable(\"Salesperson 2 in territory 1\",0,1,LpInteger)\n",
    "sales2_2=LpVariable(\"Salesperson 2 in territory 2\",0,1,LpInteger)\n",
    "sales2_3=LpVariable(\"Salesperson 2 in territory 3\",0,1,LpInteger)\n",
    "sales2_4=LpVariable(\"Salesperson 2 in territory 4\",0,1,LpInteger)\n",
    "\n",
    "sales3_1=LpVariable(\"Salesperson 3 in territory 1\",0,1,LpInteger)\n",
    "sales3_2=LpVariable(\"Salesperson 3 in territory 2\",0,1,LpInteger)\n",
    "sales3_3=LpVariable(\"Salesperson 3 in territory 3\",0,1,LpInteger)\n",
    "sales3_4=LpVariable(\"Salesperson 3 in territory 4\",0,1,LpInteger)\n",
    "\n",
    "sales4_1=LpVariable(\"Salesperson 4 in territory 1\",0,1,LpInteger)\n",
    "sales4_2=LpVariable(\"Salesperson 4 in territory 2\",0,1,LpInteger)\n",
    "sales4_3=LpVariable(\"Salesperson 4 in territory 3\",0,1,LpInteger)\n",
    "sales4_4=LpVariable(\"Salesperson 4 in territory 4\",0,1,LpInteger)\n",
    "\n",
    "rating=[[2,3,5,4],\n",
    "         [4,3,5,2],\n",
    "         [3,2,4,5],\n",
    "         [4,2,3,5]]\n",
    "\n",
    "#Objective function\n",
    "objective=(rating[0][0]*sales1_1+rating[0][1]*sales1_2+rating[0][2]*sales1_3+rating[0][3]*sales1_4+\n",
    "           rating[1][0]*sales2_1+rating[1][1]*sales2_2+rating[1][2]*sales2_3+rating[1][3]*sales2_4+\n",
    "           rating[2][0]*sales3_1+rating[2][1]*sales3_2+rating[2][2]*sales3_3+rating[2][3]*sales3_4+\n",
    "           rating[3][0]*sales4_1+rating[3][1]*sales4_2+rating[3][2]*sales4_3+rating[3][3]*sales4_4)\n",
    "\n",
    "prob+=objective\n",
    "\n",
    "#Constraints\n",
    "prob+=sales1_1+sales2_1+sales3_1+sales4_1==1 \n",
    "prob+=sales1_2+sales2_2+sales3_2+sales4_2==1 \n",
    "prob+=sales1_3+sales2_3+sales3_3+sales4_3==1 \n",
    "prob+=sales1_4+sales2_4+sales3_4+sales4_4==1 \n",
    "\n",
    "prob.solve()\n",
    "print(\"Status:\",LpStatus[prob.status])\n",
    "print('')\n",
    "for i in prob.variables():\n",
    "    print(i.name,'=', i.varValue)\n",
    "print('')\n",
    "print(\"Maximum Satisfaction =\",value(prob.objective))\n",
    "    "
   ]
  },
  {
   "cell_type": "code",
   "execution_count": null,
   "metadata": {
    "collapsed": true
   },
   "outputs": [],
   "source": []
  }
 ],
 "metadata": {
  "kernelspec": {
   "display_name": "Python 3",
   "language": "python",
   "name": "python3"
  },
  "language_info": {
   "codemirror_mode": {
    "name": "ipython",
    "version": 3
   },
   "file_extension": ".py",
   "mimetype": "text/x-python",
   "name": "python",
   "nbconvert_exporter": "python",
   "pygments_lexer": "ipython3",
   "version": "3.6.1"
  }
 },
 "nbformat": 4,
 "nbformat_minor": 2
}
